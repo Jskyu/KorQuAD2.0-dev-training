{
 "cells": [
  {
   "cell_type": "markdown",
   "metadata": {
    "id": "8w2PC45Q7GoP"
   },
   "source": [
    "# Llama2 학습을 위한 KorQuad 데이터셋 정제"
   ]
  },
  {
   "cell_type": "markdown",
   "metadata": {
    "id": "K4KSAV4p6BWw"
   },
   "source": [
    "# KorQuAD v2.0 (dev) 데이터 다운로드\n",
    "https://korquad.github.io/"
   ]
  },
  {
   "cell_type": "code",
   "execution_count": 2,
   "metadata": {
    "ExecuteTime": {
     "end_time": "2024-04-19T06:42:37.248108Z",
     "start_time": "2024-04-19T06:42:33.457257Z"
    },
    "id": "d_s3Z0C4p1mH"
   },
   "outputs": [],
   "source": [
    "import json\n",
    "\n",
    "dev_data = []\n",
    "for i in range(0, 5):\n",
    "    with open(f'./dataset/korquad2.1_dev_0{i}.json', 'r') as f:\n",
    "        data = json.load(f)\n",
    "        data = [item for topic in data['data'] for item in topic['qas']]\n",
    "        dev_data.append(data)\n",
    "        "
   ]
  },
  {
   "cell_type": "code",
   "execution_count": 3,
   "metadata": {
    "ExecuteTime": {
     "end_time": "2024-04-19T06:43:39.569892Z",
     "start_time": "2024-04-19T06:43:39.566386Z"
    }
   },
   "outputs": [],
   "source": [
    "dev_data = sum(dev_data, [])"
   ]
  },
  {
   "cell_type": "code",
   "execution_count": 4,
   "metadata": {
    "ExecuteTime": {
     "end_time": "2024-04-19T06:43:46.092213Z",
     "start_time": "2024-04-19T06:43:46.089715Z"
    },
    "colab": {
     "base_uri": "https://localhost:8080/"
    },
    "executionInfo": {
     "elapsed": 6886,
     "status": "ok",
     "timestamp": 1694193992089,
     "user": {
      "displayName": "school ai",
      "userId": "09527185271752935246"
     },
     "user_tz": -540
    },
    "id": "r_jze7HowN6V",
    "outputId": "1a02acf4-d4d6-4396-a563-430f7e3d458f"
   },
   "outputs": [
    {
     "name": "stdout",
     "output_type": "stream",
     "text": [
      "{'answer': {'text': '<td>332cm</td>', 'html_answer_start': 45900, 'html_answer_text': '<td>332cm</td>', 'answer_start': 10698}, 'question': '파스칼레 소틸레의 스파이크 높이는 몇 cm인가?', 'id': '38824'}\n"
     ]
    }
   ],
   "source": [
    "print(dev_data[0])"
   ]
  },
  {
   "cell_type": "code",
   "execution_count": 5,
   "metadata": {
    "ExecuteTime": {
     "end_time": "2024-04-19T06:44:44.462533Z",
     "start_time": "2024-04-19T06:44:44.459680Z"
    },
    "colab": {
     "base_uri": "https://localhost:8080/"
    },
    "executionInfo": {
     "elapsed": 1034,
     "status": "ok",
     "timestamp": 1694194000536,
     "user": {
      "displayName": "school ai",
      "userId": "09527185271752935246"
     },
     "user_tz": -540
    },
    "id": "geEzvdPz6rA_",
    "outputId": "c34e4500-d6bd-4fc7-bc06-faf7dcc01a6e"
   },
   "outputs": [
    {
     "data": {
      "text/plain": [
       "10165"
      ]
     },
     "execution_count": 5,
     "metadata": {},
     "output_type": "execute_result"
    }
   ],
   "source": [
    "len(dev_data)"
   ]
  },
  {
   "cell_type": "markdown",
   "metadata": {
    "id": "B__RabUkfCOj"
   },
   "source": [
    "# KorQuad 데이터셋을 Llama2 학습을 위한 Prompt 형태로 정제"
   ]
  },
  {
   "cell_type": "code",
   "execution_count": 6,
   "metadata": {
    "ExecuteTime": {
     "end_time": "2024-04-19T06:44:46.300597Z",
     "start_time": "2024-04-19T06:44:46.293609Z"
    },
    "colab": {
     "base_uri": "https://localhost:8080/"
    },
    "executionInfo": {
     "elapsed": 2118,
     "status": "ok",
     "timestamp": 1694194004833,
     "user": {
      "displayName": "school ai",
      "userId": "09527185271752935246"
     },
     "user_tz": -540
    },
    "id": "XqD0j60f6_S8",
    "outputId": "517989c2-c6da-476e-87a7-7257125dc9b2"
   },
   "outputs": [],
   "source": [
    "refined_dict = {}\n",
    "for entry in dev_data:\n",
    "    question = entry['question']\n",
    "    answers = entry['answer']['text']\n",
    "    refined_dict[question] = answers"
   ]
  },
  {
   "cell_type": "code",
   "execution_count": 7,
   "metadata": {
    "ExecuteTime": {
     "end_time": "2024-04-19T06:45:08.700037Z",
     "start_time": "2024-04-19T06:45:08.697122Z"
    },
    "colab": {
     "base_uri": "https://localhost:8080/"
    },
    "executionInfo": {
     "elapsed": 4,
     "status": "ok",
     "timestamp": 1694194007188,
     "user": {
      "displayName": "school ai",
      "userId": "09527185271752935246"
     },
     "user_tz": -540
    },
    "id": "0-dsnu7p-rbp",
    "outputId": "32f25c79-90e6-476c-b6bc-15a917154093"
   },
   "outputs": [
    {
     "name": "stdout",
     "output_type": "stream",
     "text": [
      "10159\n",
      "MKS 벵진\n"
     ]
    }
   ],
   "source": [
    "print(len(refined_dict))\n",
    "print(refined_dict['2016년 하계 올림픽 캐나다 남자 배구 대표팀 선수들 중, 타일러 샌더스는 2015-16년에 어느 팀 소속이었나?'])"
   ]
  },
  {
   "cell_type": "code",
   "execution_count": 8,
   "metadata": {
    "ExecuteTime": {
     "end_time": "2024-04-19T06:49:07.448281Z",
     "start_time": "2024-04-19T06:49:07.439801Z"
    },
    "colab": {
     "base_uri": "https://localhost:8080/"
    },
    "executionInfo": {
     "elapsed": 5,
     "status": "ok",
     "timestamp": 1694194013524,
     "user": {
      "displayName": "school ai",
      "userId": "09527185271752935246"
     },
     "user_tz": -540
    },
    "id": "lP1lFbDr-9Jk",
    "outputId": "7d54bb38-e58b-48b3-ab24-a5f717a068af"
   },
   "outputs": [
    {
     "name": "stdout",
     "output_type": "stream",
     "text": [
      "{'text': '## Question: 파스칼레 소틸레의 스파이크 높이는 몇 cm인가? ## Answer: <td>332cm</td>', 'question': '파스칼레 소틸레의 스파이크 높이는 몇 cm인가?', 'answer': '<td>332cm</td>'}\n"
     ]
    }
   ],
   "source": [
    "final_prompt_list = []\n",
    "for idx, (question, answer) in enumerate(refined_dict.items()):\n",
    "  prompt = f\"## Question: {question} ## Answer: {answer}\"\n",
    "  prompt_dict = {}\n",
    "  prompt_dict['text'] = prompt\n",
    "  prompt_dict['question'] = question\n",
    "  prompt_dict['answer'] = answer\n",
    "\n",
    "  final_prompt_list.append(prompt_dict)\n",
    "  \n",
    "print(final_prompt_list[0])"
   ]
  },
  {
   "cell_type": "code",
   "execution_count": 9,
   "metadata": {
    "ExecuteTime": {
     "end_time": "2024-04-19T06:45:46.316026Z",
     "start_time": "2024-04-19T06:45:46.311993Z"
    },
    "colab": {
     "base_uri": "https://localhost:8080/"
    },
    "executionInfo": {
     "elapsed": 1369,
     "status": "ok",
     "timestamp": 1694194019988,
     "user": {
      "displayName": "school ai",
      "userId": "09527185271752935246"
     },
     "user_tz": -540
    },
    "id": "RKxSCv9s1q0e",
    "outputId": "c41b92e3-5b88-4187-930b-67a7f95e9332"
   },
   "outputs": [
    {
     "name": "stdout",
     "output_type": "stream",
     "text": [
      "데이터 개수 : 10159\n"
     ]
    }
   ],
   "source": [
    "print('데이터 개수 :', len(final_prompt_list))"
   ]
  },
  {
   "cell_type": "code",
   "execution_count": 10,
   "metadata": {
    "ExecuteTime": {
     "end_time": "2024-04-19T06:50:01.209491Z",
     "start_time": "2024-04-19T06:50:01.205504Z"
    },
    "colab": {
     "base_uri": "https://localhost:8080/"
    },
    "executionInfo": {
     "elapsed": 6,
     "status": "ok",
     "timestamp": 1694194022376,
     "user": {
      "displayName": "school ai",
      "userId": "09527185271752935246"
     },
     "user_tz": -540
    },
    "id": "I5zAD1Ifaqvc",
    "outputId": "74c71e38-b28e-4e53-def7-8c4760eac415"
   },
   "outputs": [
    {
     "name": "stdout",
     "output_type": "stream",
     "text": [
      "{'text': '## Question: 파스칼레 소틸레의 스파이크 높이는 몇 cm인가? ## Answer: <td>332cm</td>', 'question': '파스칼레 소틸레의 스파이크 높이는 몇 cm인가?', 'answer': '<td>332cm</td>'}\n",
      "{'text': '## Question: 2016년 하계 올림픽 캐나다 남자 배구 대표팀 선수들 중, 타일러 샌더스는 2015-16년에 어느 팀 소속이었나? ## Answer: MKS 벵진', 'question': '2016년 하계 올림픽 캐나다 남자 배구 대표팀 선수들 중, 타일러 샌더스는 2015-16년에 어느 팀 소속이었나?', 'answer': 'MKS 벵진'}\n",
      "{'text': '## Question: 혈액 검사에서 나트륨의 정상범위는 최소 136mmol/L에서 최대 몇 mmol/L까지 일까? ## Answer: <td>145</td>', 'question': '혈액 검사에서 나트륨의 정상범위는 최소 136mmol/L에서 최대 몇 mmol/L까지 일까?', 'answer': '<td>145</td>'}\n",
      "{'text': '## Question: 안토닌 드보르자크의 작품 중 18개의 가곡으로 이루어진 노래는? ## Answer: 사이프러스', 'question': '안토닌 드보르자크의 작품 중 18개의 가곡으로 이루어진 노래는?', 'answer': '사이프러스'}\n",
      "{'text': '## Question: 에드먼드 핼리가 달의 운동이 빨라지고 있다고 주장한 년도는 언제일까? ## Answer: 1695년', 'question': '에드먼드 핼리가 달의 운동이 빨라지고 있다고 주장한 년도는 언제일까?', 'answer': '1695년'}\n",
      "{'text': '## Question: 지구의 속도를 낮추고 달의 궤도를 올라가게 하는 것은 무엇일까? ## Answer: 중력 토크', 'question': '지구의 속도를 낮추고 달의 궤도를 올라가게 하는 것은 무엇일까?', 'answer': '중력 토크'}\n",
      "{'text': '## Question: 조영무의 가족관계는? ## Answer: <ul><li>할아버지\\xa0: 조순후, 증 참찬문하부사</li>\\n<li>할머니\\xa0: 증 정부인 문천박씨(文川朴氏)</li>\\n<li>아버지\\xa0: <a>조세진</a></li>\\n<li>어머니\\xa0: 증 정경부인 영흥최씨(贈貞敬夫人永興崔氏)</li>\\n<li>부인\\xa0: 신천김씨\\n<ul><li>아들\\xa0: <a>조서</a>(趙敍, <a>1370년</a> ~ <a>1429년</a>)</li>\\n<li>아들\\xa0: 조윤(趙倫)</li>\\n<li>아들\\xa0: 조전(趙琠)</li></ul></li>\\n<li>부인\\xa0: 재령강씨(載寧康氏)\\n<ul><li>아들\\xa0: 조질(趙秩)</li>\\n<li>아들\\xa0: 조이(趙理)</li></ul></li></ul>', 'question': '조영무의 가족관계는?', 'answer': '<ul><li>할아버지\\xa0: 조순후, 증 참찬문하부사</li>\\n<li>할머니\\xa0: 증 정부인 문천박씨(文川朴氏)</li>\\n<li>아버지\\xa0: <a>조세진</a></li>\\n<li>어머니\\xa0: 증 정경부인 영흥최씨(贈貞敬夫人永興崔氏)</li>\\n<li>부인\\xa0: 신천김씨\\n<ul><li>아들\\xa0: <a>조서</a>(趙敍, <a>1370년</a> ~ <a>1429년</a>)</li>\\n<li>아들\\xa0: 조윤(趙倫)</li>\\n<li>아들\\xa0: 조전(趙琠)</li></ul></li>\\n<li>부인\\xa0: 재령강씨(載寧康氏)\\n<ul><li>아들\\xa0: 조질(趙秩)</li>\\n<li>아들\\xa0: 조이(趙理)</li></ul></li></ul>'}\n",
      "{'text': '## Question: 조선시대 조영무와  왕자의 난에는 어떤 관계가 있을까? ## Answer: <p><a>1400년</a>(정종 2) <a>도독</a>중외제군사<a>도진무</a>(都督中外諸軍事都鎭撫)로 병권을 장악하였으며, 그해 <a>회안대군</a> 방간이 사병을 일으켜 <a>제2차 왕자의 난</a>이 벌어지자 <a>회안대군</a> 일파를 진압하기 위해 군사를 이끌고 <a>이방원</a>을 지원하였다. 난이 진압된 뒤 좌명공신(佐命功臣) 1등에 녹훈되었다. 그 뒤 <a>삼군부</a><a>참판사</a>(三軍府參判事)가 되었다. <a>1401년</a>(태종 1년)초 <a>태종</a> 즉위 후 참찬문하부사에 임명되었다가 임시로 의정부사(議政府事)를 겸임하여 <a>의정부</a>일을 맡아보았다.\\n</p>', 'question': '조선시대 조영무와  왕자의 난에는 어떤 관계가 있을까?', 'answer': '<p><a>1400년</a>(정종 2) <a>도독</a>중외제군사<a>도진무</a>(都督中外諸軍事都鎭撫)로 병권을 장악하였으며, 그해 <a>회안대군</a> 방간이 사병을 일으켜 <a>제2차 왕자의 난</a>이 벌어지자 <a>회안대군</a> 일파를 진압하기 위해 군사를 이끌고 <a>이방원</a>을 지원하였다. 난이 진압된 뒤 좌명공신(佐命功臣) 1등에 녹훈되었다. 그 뒤 <a>삼군부</a><a>참판사</a>(三軍府參判事)가 되었다. <a>1401년</a>(태종 1년)초 <a>태종</a> 즉위 후 참찬문하부사에 임명되었다가 임시로 의정부사(議政府事)를 겸임하여 <a>의정부</a>일을 맡아보았다.\\n</p>'}\n",
      "{'text': '## Question: 조윤을 극적으로 살려준 왕의 이름은? ## Answer: <a>세종대왕</a>', 'question': '조윤을 극적으로 살려준 왕의 이름은?', 'answer': '<a>세종대왕</a>'}\n",
      "{'text': '## Question: 지역별로 부리토의 형태는 어떻게 다른가? ## Answer: <p>미션 부리토(Mission burrito)의 기원은 1960년대와 1970년대의 <a>미션 지구</a>(Mission District)의 <a>타코 상점</a>(taquería, 타케리아)으로 거슬러 올라갈 수 있다. 이 유형의 부리토는 스팀 테이블 조립 라인에서 생산되며, <a>카르네 아사다</a>(carne asada, 쇠고기), 멕시코식 쌀, 콩(비 정제), 사워 크림, 양파와 같은 충전물을 포함하며, 대형 토르티야로 감싸고 알루미늄 호일로 포장된 것이 특징이다.\\n</p><p>페브로니오 온티베로스(Febronio Ontiveros)는 1961년 폴솜 가(Folsom Street)의 코너 식료품 가게인 엘 파로(El Faro)에서 샌프란시스코에서 첫 번째 소매 부리토를 제공했다고 주장한다. 온티베로스는 \"샌프란시스코 스타일(San Francisco style)\"의 초기 개발로 이어지는 \"슈퍼 부리토(super burrito)\"스타일을 발명한 것을 정석으로 보고있다. 이 유형은 일반 육류, 콩, 치즈 부리토에 쌀, 사워 크림, 구아카몰 등이 첨가되어있다.<sup><a>[5]</a></sup><sup><a>[15]</a></sup> 미션 부리토는 1970년대와 1980년대 지역 요리 운동과 함께 부상했다. 샌프란시스코식 부리토의 인기는 엘 파롤리토(El Farolito)와 같은 미션 스트리트 타케리아(Mission Street taquerias)와 New York\\'s <a>Dos Toros</a>, <a>Chipotle Mexican Grill</a>,<sup><a>[16]</a></sup> <a>Illegal Pete\\'s</a>, <a>Freebirds World Burrito</a>, <a>Qdoba</a>,  <a>Barberitos</a>와 같은 체인을 통해 전국적으로 성장했다. 1995년 World Wrapps는 샌프란시스코의 마리나 지구(Marina District)에 문을 열었으며 레스토랑 업계에 부리토 형태의 <a>랩 샌드위치</a>를 선보였다.<sup><a>[17]</a></sup>\\n</p>', 'question': '지역별로 부리토의 형태는 어떻게 다른가?', 'answer': '<p>미션 부리토(Mission burrito)의 기원은 1960년대와 1970년대의 <a>미션 지구</a>(Mission District)의 <a>타코 상점</a>(taquería, 타케리아)으로 거슬러 올라갈 수 있다. 이 유형의 부리토는 스팀 테이블 조립 라인에서 생산되며, <a>카르네 아사다</a>(carne asada, 쇠고기), 멕시코식 쌀, 콩(비 정제), 사워 크림, 양파와 같은 충전물을 포함하며, 대형 토르티야로 감싸고 알루미늄 호일로 포장된 것이 특징이다.\\n</p><p>페브로니오 온티베로스(Febronio Ontiveros)는 1961년 폴솜 가(Folsom Street)의 코너 식료품 가게인 엘 파로(El Faro)에서 샌프란시스코에서 첫 번째 소매 부리토를 제공했다고 주장한다. 온티베로스는 \"샌프란시스코 스타일(San Francisco style)\"의 초기 개발로 이어지는 \"슈퍼 부리토(super burrito)\"스타일을 발명한 것을 정석으로 보고있다. 이 유형은 일반 육류, 콩, 치즈 부리토에 쌀, 사워 크림, 구아카몰 등이 첨가되어있다.<sup><a>[5]</a></sup><sup><a>[15]</a></sup> 미션 부리토는 1970년대와 1980년대 지역 요리 운동과 함께 부상했다. 샌프란시스코식 부리토의 인기는 엘 파롤리토(El Farolito)와 같은 미션 스트리트 타케리아(Mission Street taquerias)와 New York\\'s <a>Dos Toros</a>, <a>Chipotle Mexican Grill</a>,<sup><a>[16]</a></sup> <a>Illegal Pete\\'s</a>, <a>Freebirds World Burrito</a>, <a>Qdoba</a>,  <a>Barberitos</a>와 같은 체인을 통해 전국적으로 성장했다. 1995년 World Wrapps는 샌프란시스코의 마리나 지구(Marina District)에 문을 열었으며 레스토랑 업계에 부리토 형태의 <a>랩 샌드위치</a>를 선보였다.<sup><a>[17]</a></sup>\\n</p>'}\n",
      "{'text': '## Question: 부리토는 원래 어느 나라 음식입니까? ## Answer: 멕시코', 'question': '부리토는 원래 어느 나라 음식입니까?', 'answer': '멕시코'}\n",
      "{'text': '## Question: 부리토는 어느 지역의 전통 음식인가요? ## Answer: 멕시코 북부 <a>치와와주</a> 도시인 <a>시우다드후아레스</a>', 'question': '부리토는 어느 지역의 전통 음식인가요?', 'answer': '멕시코 북부 <a>치와와주</a> 도시인 <a>시우다드후아레스</a>'}\n",
      "{'text': '## Question: 공법과 사법을 구별하려는 이유는 무엇인가? ## Answer: <p>강력한 중앙집권적 전제국가가 존재하던 로마시대, 근대에는 공사법 구별이 엄격하였다. 반면에 <a>개인주의</a>가 발달한 시대에는 사법의 영역이 확장되었다. 최근 <a>복지국가사상</a>이 발달하면서 공사법 구별이 엄격해지고 있다. 즉, 사적자치가 발달하면 공사법이 부정되고, 국가의 권력이 강력해지면 공사법의 구별이 엄격해진다. 이를 통해서, 공법을 사법에서 굳이 분리하려는 이유는, 국가와 개인이 소송할 때는, 개인과 개인이 소송할 때보다 국가에게 더 유리하게 판결을 하기 위해 공법이 사법에서 분리된다는 것을 알 수 있다. <a>영미법</a>은 1천년이 넘도록 공사법 구별이 없이 사법으로만 규율하였는데, 20세기에 들어서 공법이 등장하고 있다는 것은, 영미법에서 <a>개인주의</a>나 <a>사적자치</a>가 후퇴하고 국가주의가 강화되고 있다는 의미로도 해석될 수 있다.\\n</p>', 'question': '공법과 사법을 구별하려는 이유는 무엇인가?', 'answer': '<p>강력한 중앙집권적 전제국가가 존재하던 로마시대, 근대에는 공사법 구별이 엄격하였다. 반면에 <a>개인주의</a>가 발달한 시대에는 사법의 영역이 확장되었다. 최근 <a>복지국가사상</a>이 발달하면서 공사법 구별이 엄격해지고 있다. 즉, 사적자치가 발달하면 공사법이 부정되고, 국가의 권력이 강력해지면 공사법의 구별이 엄격해진다. 이를 통해서, 공법을 사법에서 굳이 분리하려는 이유는, 국가와 개인이 소송할 때는, 개인과 개인이 소송할 때보다 국가에게 더 유리하게 판결을 하기 위해 공법이 사법에서 분리된다는 것을 알 수 있다. <a>영미법</a>은 1천년이 넘도록 공사법 구별이 없이 사법으로만 규율하였는데, 20세기에 들어서 공법이 등장하고 있다는 것은, 영미법에서 <a>개인주의</a>나 <a>사적자치</a>가 후퇴하고 국가주의가 강화되고 있다는 의미로도 해석될 수 있다.\\n</p>'}\n",
      "{'text': '## Question: 국제 사원수 학회는 몇 년도에 설립되었을까? ## Answer: 1899년', 'question': '국제 사원수 학회는 몇 년도에 설립되었을까?', 'answer': '1899년'}\n",
      "{'text': '## Question: 체스터 니미츠의 초기 생애는 어떠했는가? ## Answer: <p>체스터 윌리엄 니미츠는 체스터 버나드 니미츠(Chester Bernhard Nimitz)와 애나 행크 니미츠(Anna Henke Nimitz) 부부 사이에서 태어났다. 현재 니미츠가 태어난 <a>텍사스주</a> <a>프레더릭스버그</a>의 집은 기념관이 되었다. 니미츠의 아버지는 니미츠가 태어나기 전에 돌아가셨다. 니미츠는 <a>독일</a> 상선의 선원이었던 할아버지 찰스 H 니미츠(Charles H. Nimitz)로부터 많은 영향을 받았는데, 니미츠의 할아버지는 니미츠에게 \"바다는 - 인생과 마찬가지로 - 매우 엄격한 선생님(Stern taskmaster)이란다. 네가 바다와 함께 잘 해 나갈 수 있는 가장 좋은 방법은, 우선 네가 배울 수 있는 모든 것을 배운 다음, 일에 있어서 최선을 다하고, 그리고 걱정하지 않는 거란다. - 특히 네가 어쩔 수 없는 것들에 대해서 말이지\" 라고 가르쳤다.\\n</p><p>어렸을 적 니미츠는 <a>웨스트포인트</a>에 진학하여 육군 장교가 되기를 희망하였지만 가능한 자리가 없었다. 니미츠가 살던 지역의 <a>하원</a> 의원이었던 <a>제임스 L 슬레이든</a>(James L. Slayden)은 니미츠에게 해군에 한 자리가 있는데, 이를 가장 적합한 지원자에게 줄 것이라고 말하였다. 니미츠는 이것이 교육을 더 받을 수 있는 유일한 기회라 여겼고, 그 자리를 얻기 위해 여가 시간을 공부하면서 보냈다. <a>1901년</a> 니미츠는 <a>텍사스</a>의 12번째 하원 의원 선거구로서 <a>미국 해군사관학교</a>에 입학하였다. 이 후 <a>1905년</a> <a>1월</a> 144명 중 7등이라는 우수한 성적으로 졸업하였다. 그는 <a>제2차 세계 대전</a> 태평양 전역 내내 \"아일랜드 호퍼(Island Hopper)\" 로서 알려졌다.\\n</p>', 'question': '체스터 니미츠의 초기 생애는 어떠했는가?', 'answer': '<p>체스터 윌리엄 니미츠는 체스터 버나드 니미츠(Chester Bernhard Nimitz)와 애나 행크 니미츠(Anna Henke Nimitz) 부부 사이에서 태어났다. 현재 니미츠가 태어난 <a>텍사스주</a> <a>프레더릭스버그</a>의 집은 기념관이 되었다. 니미츠의 아버지는 니미츠가 태어나기 전에 돌아가셨다. 니미츠는 <a>독일</a> 상선의 선원이었던 할아버지 찰스 H 니미츠(Charles H. Nimitz)로부터 많은 영향을 받았는데, 니미츠의 할아버지는 니미츠에게 \"바다는 - 인생과 마찬가지로 - 매우 엄격한 선생님(Stern taskmaster)이란다. 네가 바다와 함께 잘 해 나갈 수 있는 가장 좋은 방법은, 우선 네가 배울 수 있는 모든 것을 배운 다음, 일에 있어서 최선을 다하고, 그리고 걱정하지 않는 거란다. - 특히 네가 어쩔 수 없는 것들에 대해서 말이지\" 라고 가르쳤다.\\n</p><p>어렸을 적 니미츠는 <a>웨스트포인트</a>에 진학하여 육군 장교가 되기를 희망하였지만 가능한 자리가 없었다. 니미츠가 살던 지역의 <a>하원</a> 의원이었던 <a>제임스 L 슬레이든</a>(James L. Slayden)은 니미츠에게 해군에 한 자리가 있는데, 이를 가장 적합한 지원자에게 줄 것이라고 말하였다. 니미츠는 이것이 교육을 더 받을 수 있는 유일한 기회라 여겼고, 그 자리를 얻기 위해 여가 시간을 공부하면서 보냈다. <a>1901년</a> 니미츠는 <a>텍사스</a>의 12번째 하원 의원 선거구로서 <a>미국 해군사관학교</a>에 입학하였다. 이 후 <a>1905년</a> <a>1월</a> 144명 중 7등이라는 우수한 성적으로 졸업하였다. 그는 <a>제2차 세계 대전</a> 태평양 전역 내내 \"아일랜드 호퍼(Island Hopper)\" 로서 알려졌다.\\n</p>'}\n",
      "{'text': '## Question: 일본이 진주만을 공습한 사건이 언제 일어났나요? ## Answer: <a>1941년</a> <a>12월 7일</a>', 'question': '일본이 진주만을 공습한 사건이 언제 일어났나요?', 'answer': '<a>1941년</a> <a>12월 7일</a>'}\n",
      "{'text': '## Question: 1907년 니미츠가 임관한 계급은 뭐야? ## Answer: 소위', 'question': '1907년 니미츠가 임관한 계급은 뭐야?', 'answer': '소위'}\n",
      "{'text': '## Question: 스티비 원더가 눈 수술을 받았다는 루머는 사실인가? ## Answer: 사실이 아니다', 'question': '스티비 원더가 눈 수술을 받았다는 루머는 사실인가?', 'answer': '사실이 아니다'}\n",
      "{'text': '## Question: 마이 셰리 어무어가 리믹스되어 발매된 연도는? ## Answer: 1969', 'question': '마이 셰리 어무어가 리믹스되어 발매된 연도는?', 'answer': '1969'}\n",
      "{'text': '## Question: 민진원은 어떤 정치 활동을 한 인물이야? ## Answer: <p>노론 4대신인 <a>김창집</a>, <a>조태채</a>, <a>이이명</a>, <a>이건명</a>을 앞세워 <a>숙빈 최씨</a>의 아들인 연잉군을 왕세제로 삼을 것을 종용하였고, 경종이 이를 주저하자 조정백관 앞에서 경종은 효심과 군주로서의 자질이 부족하니 서둘러 연잉군을 왕세제로 삼는다는 교지를 내리고 정사에서 물러나라는 과격한 언사를 내뱉아 <a>소론</a>의 공분을 샀다. <a>1721년</a> <a>신임옥사</a>로 노론이 실각하자 성주로 유배되었다가, <a>1725년</a> 영조가 즉위하자 유배령에서 풀려나 예조, 공조의 판서와 지경연사, 빈객을 거쳐 우의정을 하다가 좌의정으로 임명되었으며 《<a>숙종실록</a>》의 총재관이 되었다.\\n</p><p>영조의 <a>탕평책</a>을 반대하였고, 소론 영수 <a>이광좌</a>와의 화해를 주선했지면 역시 호응하지 않아 오히려 영조의 격노를 샀다. 그는 영조를 추대하려 노력하다가 죽어간 노론 대신들의 공적을 인정할 것과 신임사화 당시 노론 4대신(<a>김창집</a>, <a>이이명</a>, <a>이건명</a>, <a>조태채</a>)의 복권과 소론 5대신에 대한 탄핵, 추탈, 부관참시 등을 요구하였다. 당색이 지나치고 언행이 과격하여 <a>1727년</a> <a>정미환국</a> 때 파직되어 순안에 안치되었다.\\n</p>', 'question': '민진원은 어떤 정치 활동을 한 인물이야?', 'answer': '<p>노론 4대신인 <a>김창집</a>, <a>조태채</a>, <a>이이명</a>, <a>이건명</a>을 앞세워 <a>숙빈 최씨</a>의 아들인 연잉군을 왕세제로 삼을 것을 종용하였고, 경종이 이를 주저하자 조정백관 앞에서 경종은 효심과 군주로서의 자질이 부족하니 서둘러 연잉군을 왕세제로 삼는다는 교지를 내리고 정사에서 물러나라는 과격한 언사를 내뱉아 <a>소론</a>의 공분을 샀다. <a>1721년</a> <a>신임옥사</a>로 노론이 실각하자 성주로 유배되었다가, <a>1725년</a> 영조가 즉위하자 유배령에서 풀려나 예조, 공조의 판서와 지경연사, 빈객을 거쳐 우의정을 하다가 좌의정으로 임명되었으며 《<a>숙종실록</a>》의 총재관이 되었다.\\n</p><p>영조의 <a>탕평책</a>을 반대하였고, 소론 영수 <a>이광좌</a>와의 화해를 주선했지면 역시 호응하지 않아 오히려 영조의 격노를 샀다. 그는 영조를 추대하려 노력하다가 죽어간 노론 대신들의 공적을 인정할 것과 신임사화 당시 노론 4대신(<a>김창집</a>, <a>이이명</a>, <a>이건명</a>, <a>조태채</a>)의 복권과 소론 5대신에 대한 탄핵, 추탈, 부관참시 등을 요구하였다. 당색이 지나치고 언행이 과격하여 <a>1727년</a> <a>정미환국</a> 때 파직되어 순안에 안치되었다.\\n</p>'}\n",
      "{'text': '## Question: 민진원은 1694년 어떤 사건으로 등용되었는가? ## Answer: <a>갑술옥사</a>', 'question': '민진원은 1694년 어떤 사건으로 등용되었는가?', 'answer': '<a>갑술옥사</a>'}\n"
     ]
    }
   ],
   "source": [
    "num_items = 20\n",
    "\n",
    "for idx, item in enumerate(final_prompt_list):\n",
    "    if num_items < idx:\n",
    "        break\n",
    "    print(item)"
   ]
  },
  {
   "cell_type": "markdown",
   "metadata": {
    "id": "2N_9iYNOfMLu"
   },
   "source": [
    "## JSON 파일로 저장 및 다운로드"
   ]
  },
  {
   "cell_type": "code",
   "execution_count": 11,
   "metadata": {
    "ExecuteTime": {
     "end_time": "2024-04-19T06:50:28.748867Z",
     "start_time": "2024-04-19T06:50:28.699529Z"
    },
    "id": "94rAO0y2re_e"
   },
   "outputs": [],
   "source": [
    "with open('./dataset/korquad2_dev_train.json', 'w', encoding='utf-8') as f:\n",
    "    f.write(\"[\\n\")\n",
    "    for i, item in enumerate(final_prompt_list):\n",
    "        json_str = json.dumps(item, ensure_ascii=False)\n",
    "        f.write(json_str)\n",
    "        if i < len(final_prompt_list) - 1:  # 마지막 원소가 아니라면 콤마를 추가\n",
    "            f.write(\",\\n\")\n",
    "        else:  # 마지막 원소라면 콤마를 추가하지 않음\n",
    "            f.write(\"\\n\")\n",
    "    f.write(\"]\\n\")"
   ]
  }
 ],
 "metadata": {
  "accelerator": "GPU",
  "colab": {
   "gpuType": "T4",
   "provenance": [
    {
     "file_id": "1AwFa1pIlfZqbDxDkIjyFPuUXtI5LGNzq",
     "timestamp": 1713499314526
    }
   ]
  },
  "kernelspec": {
   "display_name": "Python 3 (ipykernel)",
   "language": "python",
   "name": "python3"
  },
  "language_info": {
   "codemirror_mode": {
    "name": "ipython",
    "version": 3
   },
   "file_extension": ".py",
   "mimetype": "text/x-python",
   "name": "python",
   "nbconvert_exporter": "python",
   "pygments_lexer": "ipython3",
   "version": "3.12.3"
  }
 },
 "nbformat": 4,
 "nbformat_minor": 0
}
